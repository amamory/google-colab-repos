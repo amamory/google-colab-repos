{
  "nbformat": 4,
  "nbformat_minor": 0,
  "metadata": {
    "colab": {
      "name": "keras 2 onnx.ipynb",
      "provenance": [],
      "collapsed_sections": [],
      "toc_visible": true,
      "mount_file_id": "1Hodyc9bu5EKgsGEICmbO-eDwapcqRuqL",
      "authorship_tag": "ABX9TyPYC20lwwj0NWBhutnpgYJa",
      "include_colab_link": true
    },
    "kernelspec": {
      "name": "python3",
      "display_name": "Python 3"
    }
  },
  "cells": [
    {
      "cell_type": "markdown",
      "metadata": {
        "id": "view-in-github",
        "colab_type": "text"
      },
      "source": [
        "<a href=\"https://colab.research.google.com/github/amamory/google-colab-repos/blob/master/keras_2_onnx.ipynb\" target=\"_parent\"><img src=\"https://colab.research.google.com/assets/colab-badge.svg\" alt=\"Open In Colab\"/></a>"
      ]
    },
    {
      "cell_type": "markdown",
      "metadata": {
        "id": "xFz1n2fL4GKO",
        "colab_type": "text"
      },
      "source": [
        "# Convert Keras to ONNX"
      ]
    },
    {
      "cell_type": "markdown",
      "metadata": {
        "id": "mumr-IgE4ItC",
        "colab_type": "text"
      },
      "source": [
        "minimalist script to convert an existing keras model (HDF5 file format) to ONNX. This example conversta a [efficient-net](https://github.com/qubvel/efficientnet) model with custom layers.\n",
        "\n",
        "adapted from: https://medium.com/analytics-vidhya/how-to-convert-your-keras-model-to-onnx-8d8b092c4e4f"
      ]
    },
    {
      "cell_type": "code",
      "metadata": {
        "id": "yE127POU4ClT",
        "colab_type": "code",
        "outputId": "d683c786-3991-4bb2-f800-b94491749d90",
        "colab": {
          "base_uri": "https://localhost:8080/",
          "height": 104
        }
      },
      "source": [
        "# install keras-onnx from source\n",
        "!pip install --quiet -U git+https://github.com/microsoft/onnxconverter-common\n",
        "!pip install --quiet -U git+https://github.com/onnx/keras-onnx"
      ],
      "execution_count": 1,
      "outputs": [
        {
          "output_type": "stream",
          "text": [
            "\u001b[K     |████████████████████████████████| 7.4MB 2.7MB/s \n",
            "\u001b[?25h  Building wheel for onnxconverter-common (setup.py) ... \u001b[?25l\u001b[?25hdone\n",
            "\u001b[K     |████████████████████████████████| 81kB 2.2MB/s \n",
            "\u001b[?25h  Building wheel for keras2onnx (setup.py) ... \u001b[?25l\u001b[?25hdone\n",
            "  Building wheel for fire (setup.py) ... \u001b[?25l\u001b[?25hdone\n"
          ],
          "name": "stdout"
        }
      ]
    },
    {
      "cell_type": "code",
      "metadata": {
        "id": "5P33crJz_Zxc",
        "colab_type": "code",
        "outputId": "10d75f8b-cf79-4528-8c49-05fd495d96ef",
        "colab": {
          "base_uri": "https://localhost:8080/",
          "height": 34
        }
      },
      "source": [
        "# Install any network specific package required for the conversion\n",
        "!pip install --quiet -U git+https://github.com/qubvel/efficientnet\n",
        "# this example model as a custom layer called FixedDropout. \n",
        "# if you dont import this lib you will get a 'Unknown layer: FixedDropout' error during module load\n",
        "import efficientnet.tfkeras as efn"
      ],
      "execution_count": 2,
      "outputs": [
        {
          "output_type": "stream",
          "text": [
            "  Building wheel for efficientnet (setup.py) ... \u001b[?25l\u001b[?25hdone\n"
          ],
          "name": "stdout"
        }
      ]
    },
    {
      "cell_type": "code",
      "metadata": {
        "id": "2PMTqBSu4dRr",
        "colab_type": "code",
        "colab": {
          "base_uri": "https://localhost:8080/",
          "height": 52
        },
        "outputId": "56f66db4-bbb4-4e8d-df63-9de83bd028cf"
      },
      "source": [
        "# mount Google Drive, where the source file is and the generated file will be saved\n",
        "# click in the link and copy&paste the authorization code\n",
        "# click in the Google Drive icon in the top left corner to allow it only once\n",
        "from google.colab import drive\n",
        "drive.mount('/content/drive/')\n",
        "# you might need to edit the soruce location\n",
        "# the soruce file is located in [github](https://github.com/amamory/google-colab-repos/raw/master/models/efficient-net.h5)\n",
        "model_dir = '/content/drive/My Drive/Colab Notebooks/models/'\n",
        "!ls '/content/drive/My Drive/Colab Notebooks/models/'"
      ],
      "execution_count": 3,
      "outputs": [
        {
          "output_type": "stream",
          "text": [
            "Drive already mounted at /content/drive/; to attempt to forcibly remount, call drive.mount(\"/content/drive/\", force_remount=True).\n",
            "efficient-net.h5  efficient-net.onnx  lenet.onnx  mlp.onnx  mnist-model.h5\n"
          ],
          "name": "stdout"
        }
      ]
    },
    {
      "cell_type": "code",
      "metadata": {
        "id": "VM1aKEiH4EcC",
        "colab_type": "code",
        "colab": {
          "base_uri": "https://localhost:8080/",
          "height": 52
        },
        "outputId": "dadd0374-ce6e-4848-de5c-e4ecfae78e39"
      },
      "source": [
        "#enter the file names\n",
        "onnx_model_name = model_dir+'efficient-net.onnx'\n",
        "keras_model_name = model_dir+'efficient-net.h5'\n",
        "print(onnx_model_name)\n",
        "print(keras_model_name)"
      ],
      "execution_count": 4,
      "outputs": [
        {
          "output_type": "stream",
          "text": [
            "/content/drive/My Drive/Colab Notebooks/models/efficient-net.onnx\n",
            "/content/drive/My Drive/Colab Notebooks/models/efficient-net.h5\n"
          ],
          "name": "stdout"
        }
      ]
    },
    {
      "cell_type": "code",
      "metadata": {
        "id": "W28_dd9J4INm",
        "colab_type": "code",
        "colab": {
          "base_uri": "https://localhost:8080/",
          "height": 121
        },
        "outputId": "10038f8c-8ade-41a1-98d4-8f0385f78324"
      },
      "source": [
        "import numpy as np\n",
        "import tensorflow as tf\n",
        "import onnx\n",
        "import keras2onnx\n",
        "print(\"TensorFlow version is \"+tf.__version__)\n",
        "print(\"keras2onnx version is \"+keras2onnx.__version__)\n",
        "\n",
        "tf.keras.backend.clear_session()\n",
        "model = tf.keras.models.load_model(keras_model_name)\n",
        "\n",
        "onnx_model = keras2onnx.convert_keras(model, model.name)\n",
        "onnx.save_model(onnx_model, onnx_model_name)"
      ],
      "execution_count": 5,
      "outputs": [
        {
          "output_type": "stream",
          "text": [
            "TensorFlow version is 2.2.0\n",
            "keras2onnx version is 1.7.0\n",
            "WARNING:tensorflow:No training configuration found in the save file, so the model was *not* compiled. Compile it manually.\n"
          ],
          "name": "stdout"
        },
        {
          "output_type": "stream",
          "text": [
            "tf executing eager_mode: True\n",
            "tf.keras model eager_mode: False\n",
            "The ONNX operator number change on the optimization: 631 -> 290\n"
          ],
          "name": "stderr"
        }
      ]
    }
  ]
}