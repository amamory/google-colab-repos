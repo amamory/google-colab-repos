{
  "nbformat": 4,
  "nbformat_minor": 0,
  "metadata": {
    "colab": {
      "name": "MNIST onnx-runtime.ipynb",
      "provenance": [],
      "collapsed_sections": [],
      "mount_file_id": "1CxEaoO3SHRShhj1BOzxiymLymGMVnVvV",
      "authorship_tag": "ABX9TyO2TWRsRXJ8S/H1aidFMEcl",
      "include_colab_link": true
    },
    "kernelspec": {
      "name": "python3",
      "display_name": "Python 3"
    }
  },
  "cells": [
    {
      "cell_type": "markdown",
      "metadata": {
        "id": "view-in-github",
        "colab_type": "text"
      },
      "source": [
        "<a href=\"https://colab.research.google.com/github/amamory/google-colab-repos/blob/master/MNIST_onnx_runtime.ipynb\" target=\"_parent\"><img src=\"https://colab.research.google.com/assets/colab-badge.svg\" alt=\"Open In Colab\"/></a>"
      ]
    },
    {
      "cell_type": "markdown",
      "metadata": {
        "id": "6lGtNfrZz8uN",
        "colab_type": "text"
      },
      "source": [
        "# Testing ONNX Runtime with MNIST Dataset\n",
        "\n",
        "This is an adaptation of this [example](https://github.com/Cuda-Chen/keras2onnx-example/blob/master/comparison.py) to test the MNIST digits with ONNX-runtime"
      ]
    },
    {
      "cell_type": "code",
      "metadata": {
        "id": "QWZ9ZmyNYxKq",
        "colab_type": "code",
        "colab": {
          "base_uri": "https://localhost:8080/",
          "height": 52
        },
        "outputId": "d5399a01-2144-43b9-b907-48977165bbde"
      },
      "source": [
        "!pip install --quiet -U onnxruntime"
      ],
      "execution_count": 1,
      "outputs": [
        {
          "output_type": "stream",
          "text": [
            "\u001b[K     |████████████████████████████████| 3.9MB 2.8MB/s \n",
            "\u001b[K     |████████████████████████████████| 7.4MB 23.7MB/s \n",
            "\u001b[?25h"
          ],
          "name": "stdout"
        }
      ]
    },
    {
      "cell_type": "code",
      "metadata": {
        "id": "WJqjddg1XGr8",
        "colab_type": "code",
        "colab": {}
      },
      "source": [
        "from tensorflow.python.keras import backend as K\n",
        "from tensorflow.python.keras.models import load_model\n",
        "from tensorflow.python.keras.preprocessing import image\n",
        "import sys\n",
        "import numpy as np\n",
        "import matplotlib.pyplot as plt\n",
        "import onnxruntime\n",
        "import time"
      ],
      "execution_count": 0,
      "outputs": []
    },
    {
      "cell_type": "code",
      "metadata": {
        "id": "f_58zdqSXVk8",
        "colab_type": "code",
        "colab": {
          "base_uri": "https://localhost:8080/",
          "height": 34
        },
        "outputId": "e4ae5ff0-0760-42c0-81d8-52bef0d1730d"
      },
      "source": [
        "  from google.colab import drive\n",
        "  drive.mount('/content/drive/')"
      ],
      "execution_count": 3,
      "outputs": [
        {
          "output_type": "stream",
          "text": [
            "Drive already mounted at /content/drive/; to attempt to forcibly remount, call drive.mount(\"/content/drive/\", force_remount=True).\n"
          ],
          "name": "stdout"
        }
      ]
    },
    {
      "cell_type": "code",
      "metadata": {
        "id": "bNZR9y67XVOp",
        "colab_type": "code",
        "colab": {}
      },
      "source": [
        "# load Keras and ONNX model\n",
        "# these model files are also available at the models dir\n",
        "net = load_model('/content/drive/My Drive/Colab Notebooks/models/mnist-model.h5')\n",
        "onnx_model = '/content/drive/My Drive/Colab Notebooks/models/mnist-model.onnx'\n",
        "sess = onnxruntime.InferenceSession(onnx_model)"
      ],
      "execution_count": 0,
      "outputs": []
    },
    {
      "cell_type": "code",
      "metadata": {
        "id": "Xi3Cj3IRXOrQ",
        "colab_type": "code",
        "colab": {
          "base_uri": "https://localhost:8080/",
          "height": 317
        },
        "outputId": "e91f8480-6ad8-45e5-dadb-1db877887fce"
      },
      "source": [
        "# image preprocessing\n",
        "def rgb2gray(rgb):\n",
        "    return np.dot(rgb[...,:3], [0.299, 0.587, 0.144])\n",
        "\n",
        "IMAGE_SIZE = 28 \n",
        "loop_count = 10\n",
        "# these samples of MNIST images are also available at the images dir\n",
        "img_path = '/content/drive/My Drive/Colab Notebooks/images/4.bmp'\n",
        "\n",
        "img = image.load_img(img_path, target_size=(IMAGE_SIZE, IMAGE_SIZE))\n",
        "img = image.img_to_array(img)\n",
        "gray = rgb2gray(img)\n",
        "print (gray.shape)\n",
        "\n",
        "x = image.img_to_array(gray)\n",
        "x = np.expand_dims(x, axis=0)\n",
        "print (x.shape)\n",
        "\n",
        "plt.imshow(gray, cmap='Greys')\n",
        "plt.show()"
      ],
      "execution_count": 25,
      "outputs": [
        {
          "output_type": "stream",
          "text": [
            "(28, 28)\n",
            "(1, 28, 28, 1)\n",
            "<class 'numpy.ndarray'>\n"
          ],
          "name": "stdout"
        },
        {
          "output_type": "display_data",
          "data": {
            "image/png": "[encoded data removed]",
            "text/plain": [
              "<Figure size 432x288 with 1 Axes>"
            ]
          },
          "metadata": {
            "tags": [],
            "needs_background": "light"
          }
        }
      ]
    },
    {
      "cell_type": "code",
      "metadata": {
        "id": "fs-oB1qDXKDK",
        "colab_type": "code",
        "colab": {
          "base_uri": "https://localhost:8080/",
          "height": 52
        },
        "outputId": "d68efaa2-7ed5-4f68-9737-24600b063fa7"
      },
      "source": [
        "# Keras predtion\n",
        "start_time = time.time()\n",
        "for i in range(loop_count):\n",
        "    pred = net.predict(x)[0]\n",
        "print (pred)\n",
        "print(\"Keras inferences with %s second in average\" %((time.time() - start_time) / loop_count))"
      ],
      "execution_count": 26,
      "outputs": [
        {
          "output_type": "stream",
          "text": [
            "[0. 0. 0. 0. 1. 0. 0. 0. 0. 0.]\n",
            "Keras inferences with 0.034112977981567386 second in average\n"
          ],
          "name": "stdout"
        }
      ]
    },
    {
      "cell_type": "code",
      "metadata": {
        "id": "tCwWoOaAXK0B",
        "colab_type": "code",
        "colab": {
          "base_uri": "https://localhost:8080/",
          "height": 69
        },
        "outputId": "9152b0ed-fc13-49d7-c7ce-b3d7f1efc48b"
      },
      "source": [
        "# ONNX prediction\n",
        "x_onnx = x if isinstance(x, list) else [x]\n",
        "# onnx data needs to be a list, not a numpy array\n",
        "feed = dict([(input.name, x_onnx[n]) for n, input in enumerate(sess.get_inputs())])\n",
        "\n",
        "start_time = time.time()\n",
        "for i in range(loop_count):\n",
        "    pred_onnx = sess.run(None, feed)[0]\n",
        "print (pred_onnx)\n",
        "print(\"ONNX inferences with %s second in average\" %((time.time() - start_time) / loop_count))\n",
        "\n",
        "if pred.all() == pred_onnx.all():\n",
        "  print ('Both keras and ONNX predictions are matching')\n",
        "else:\n",
        "  print ('ERROR: keras and ONNX predictions are NOT matching')"
      ],
      "execution_count": 32,
      "outputs": [
        {
          "output_type": "stream",
          "text": [
            "[[0. 0. 0. 0. 1. 0. 0. 0. 0. 0.]]\n",
            "ONNX inferences with 0.00011355876922607422 second in average\n",
            "Both keras and ONNX predictions are matching\n"
          ],
          "name": "stdout"
        }
      ]
    }
  ]
}